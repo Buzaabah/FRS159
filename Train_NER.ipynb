{
 "cells": [
  {
   "cell_type": "markdown",
   "id": "4bbef117-eea7-4573-b60c-e9eb7c3c7bd6",
   "metadata": {},
   "source": [
    "### Practice Annotation for Named Entity Recorgnition"
   ]
  },
  {
   "cell_type": "raw",
   "id": "7b76e57d-435b-4637-958d-e315c02c537d",
   "metadata": {},
   "source": [
    "Step-1 : Create your annotations with the help of an external tool\n",
    "\n",
    "\n",
    "https://tecoholic.github.io/ner-annotator/"
   ]
  },
  {
   "cell_type": "raw",
   "id": "c6c6a2ea-5838-4482-8d31-6b85e7aa9c1e",
   "metadata": {},
   "source": [
    "\n",
    "Step-2 : Read the annotated json file\n"
   ]
  },
  {
   "cell_type": "code",
   "execution_count": 1,
   "id": "2aea310c-c918-489c-968b-639eb23f9286",
   "metadata": {},
   "outputs": [],
   "source": [
    "import pandas as pd\n",
    "import json\n",
    "import os\n",
    "#os.chdir(r'C:\\Users\\deepa\\Downloads')\n",
    "\n",
    "with open('_data/annotations.json', 'r') as f:\n",
    "    data = json.load(f)"
   ]
  },
  {
   "cell_type": "code",
   "execution_count": 2,
   "id": "fb63cf70-ae7d-4ccb-8273-af72deb0caa9",
   "metadata": {},
   "outputs": [
    {
     "data": {
      "text/plain": [
       "{'classes': ['PER', 'ORG', 'LOC', 'DATE'],\n",
       " 'annotations': [['Abanyarwanda n’inshuti z’u Rwanda batuye mu Busuwisi, Autriche, na Liechtenstein bizihije ku nshuro ya 27 Umunsi wo Kwibohora, baratira amahanga ibyo igihugu kimaze kugeraho kibikesha imiyoborere myiza ya FPR Inkotanyi.',\n",
       "   {'entities': [[27, 33, 'LOC'],\n",
       "     [44, 52, 'LOC'],\n",
       "     [54, 62, 'LOC'],\n",
       "     [67, 80, 'LOC'],\n",
       "     [205, 218, 'ORG']]}],\n",
       "  ['Ni ibirori byabaye ku wa 06 Nyakanga 2021 hifashishijwe ikoranabuhanga mu kwirinda COVID-19, byitabirwa n’abahagarariye ibihugu byabo, abakozi b’Umuryango w’Abibumbye, ndetse n’abakozi b’imiryango mpuzamahanga bakorera i Genève mu Busuwisi.',\n",
       "   {'entities': [[25, 41, 'DATE'],\n",
       "     [143, 166, 'ORG'],\n",
       "     [221, 227, 'LOC'],\n",
       "     [231, 239, 'LOC']]}],\n",
       "  ['Insanganyamatsiko yagiraga iti “Dufatanyije tugera ku iterambere”.',\n",
       "   {'entities': []}],\n",
       "  ['Mu ijambo yagejeje ku bitabiriye, Ambasaderi w’u Rwanda mu Busuwisi, Umuryango w’Abibumbye n’Imiryango Mpuzamahanga ikorera i Genève; Rwakazina Marie Chantal yakeje ingabo za RPA zabohoye igihugu, azishimira ubutwari, ubwitange ndetse no kutizigama byaziranze.',\n",
       "   {'entities': [[49, 55, 'LOC'],\n",
       "     [59, 67, 'LOC'],\n",
       "     [69, 90, 'ORG'],\n",
       "     [126, 132, 'LOC'],\n",
       "     [134, 157, 'PER'],\n",
       "     [175, 178, 'ORG']]}],\n",
       "  ['Yashimiye cyane Perezida wa Repubulika Paul Kagame waziyoboye zigahagarika Jenoside yakorewe Abatutsi mu 1994, amahanga arebera.',\n",
       "   {'entities': [[39, 50, 'PER'], [105, 109, 'DATE']]}],\n",
       "  ['Ambasaderi Rwakazina yagize ati “Itariki ya 4 Nyakanga ntizibagirana mu mateka y’Isi haba ku Banyarwanda n’abanyamahanga kuko ni ikimenyetso cy’ihagarikwa rya Jenoside yakorewe Abatutsi. Jenoside yagombaga kuba yaraburijwemo, ariko igakorwa na Leta nkoramaraso yari yaramunzwe n’amacakubiri, igategura ndetse igashyira mu bikorwa umugambi wayo amahanga arebera”.',\n",
       "   {'entities': [[11, 20, 'PER'], [44, 54, 'DATE']]}],\n",
       "  ['Yibukije ko nyuma yo guhagarika Jenoside intego za FPR Inkotanyi kwari ugutuza buri Munyarwanda mu gihugu akubaka ejo heza mu mahoro n’ituze.',\n",
       "   {'entities': [[51, 64, 'ORG']]}],\n",
       "  ['Yaboneyeho kugaragaza isura nshya u Rwanda rufite, anamurikira abitabiriye ibirori bimwe mu byo rwagezweho mu myaka 27 ishize mu bukungu n’imibereho myiza y’abaturage,rukesha imiyoborere myiza ya Perezida Kagame.',\n",
       "   {'entities': [[36, 42, 'LOC'], [205, 211, 'PER']]}],\n",
       "  ['Ambasaderi Rwakazina yakanguriye Abanyarwanda by’umwihariko urubyiruko rutuye imahanga gushishikarira guteza imbere igihugu cyabo kuko aribo maboko yacyo, abasaba kugira uruhare rugaragara mu gusigasira ibyagezweho no gutanga umusanzu mu iterambere ryacyo.',\n",
       "   {'entities': [[11, 20, 'PER']]}],\n",
       "  ['Ibirori byaranzwe n’ imbyino n’indirimbo Nyarwanda by’Itorero ry’Igihugu, Urukerereza; ibiganiro,imivugo, ubuhamya bw’Abanyarwanda n’inshuti z’u Rwanda byose bishimira bikanarata ingabo zahoze ari iza RPA zarubohoye zikanahagarika Jenoside yakorewe Abatutsi Abatutsi.',\n",
       "   {'entities': [[145, 151, 'LOC'], [201, 204, 'ORG']]}],\n",
       "  ['Abanyarwanda baba USA bibukijwe ko badakwiye gusinzira ngo bibagirwe ababohoye Igihugu',\n",
       "   {'entities': [[18, 21, 'LOC']]}],\n",
       "  ['', {'entities': []}]]}"
      ]
     },
     "execution_count": 2,
     "metadata": {},
     "output_type": "execute_result"
    }
   ],
   "source": [
    "data"
   ]
  },
  {
   "cell_type": "raw",
   "id": "e28d3292-1056-4f64-95d4-d232bfbd7e30",
   "metadata": {},
   "source": [
    "\n",
    "Step-3 : Run this custom code to convert to required format\n"
   ]
  },
  {
   "cell_type": "code",
   "execution_count": 3,
   "id": "42a0ad8c-697b-4472-8aba-837e0cfc3d5d",
   "metadata": {},
   "outputs": [],
   "source": [
    "entity_names = \"'PER', 'ORG', 'LOC', 'DATE'\"\n",
    "\n",
    "train_data = data['annotations']\n",
    "train_data = [tuple(i) for i in train_data]"
   ]
  },
  {
   "cell_type": "code",
   "execution_count": 4,
   "id": "0a2e87b6-9f84-4f7a-bf9c-1a8af38a62e8",
   "metadata": {},
   "outputs": [
    {
     "data": {
      "text/plain": [
       "[('Abanyarwanda n’inshuti z’u Rwanda batuye mu Busuwisi, Autriche, na Liechtenstein bizihije ku nshuro ya 27 Umunsi wo Kwibohora, baratira amahanga ibyo igihugu kimaze kugeraho kibikesha imiyoborere myiza ya FPR Inkotanyi.',\n",
       "  {'entities': [[27, 33, 'LOC'],\n",
       "    [44, 52, 'LOC'],\n",
       "    [54, 62, 'LOC'],\n",
       "    [67, 80, 'LOC'],\n",
       "    [205, 218, 'ORG']]}),\n",
       " ('Ni ibirori byabaye ku wa 06 Nyakanga 2021 hifashishijwe ikoranabuhanga mu kwirinda COVID-19, byitabirwa n’abahagarariye ibihugu byabo, abakozi b’Umuryango w’Abibumbye, ndetse n’abakozi b’imiryango mpuzamahanga bakorera i Genève mu Busuwisi.',\n",
       "  {'entities': [[25, 41, 'DATE'],\n",
       "    [143, 166, 'ORG'],\n",
       "    [221, 227, 'LOC'],\n",
       "    [231, 239, 'LOC']]}),\n",
       " ('Insanganyamatsiko yagiraga iti “Dufatanyije tugera ku iterambere”.',\n",
       "  {'entities': []}),\n",
       " ('Mu ijambo yagejeje ku bitabiriye, Ambasaderi w’u Rwanda mu Busuwisi, Umuryango w’Abibumbye n’Imiryango Mpuzamahanga ikorera i Genève; Rwakazina Marie Chantal yakeje ingabo za RPA zabohoye igihugu, azishimira ubutwari, ubwitange ndetse no kutizigama byaziranze.',\n",
       "  {'entities': [[49, 55, 'LOC'],\n",
       "    [59, 67, 'LOC'],\n",
       "    [69, 90, 'ORG'],\n",
       "    [126, 132, 'LOC'],\n",
       "    [134, 157, 'PER'],\n",
       "    [175, 178, 'ORG']]}),\n",
       " ('Yashimiye cyane Perezida wa Repubulika Paul Kagame waziyoboye zigahagarika Jenoside yakorewe Abatutsi mu 1994, amahanga arebera.',\n",
       "  {'entities': [[39, 50, 'PER'], [105, 109, 'DATE']]}),\n",
       " ('Ambasaderi Rwakazina yagize ati “Itariki ya 4 Nyakanga ntizibagirana mu mateka y’Isi haba ku Banyarwanda n’abanyamahanga kuko ni ikimenyetso cy’ihagarikwa rya Jenoside yakorewe Abatutsi. Jenoside yagombaga kuba yaraburijwemo, ariko igakorwa na Leta nkoramaraso yari yaramunzwe n’amacakubiri, igategura ndetse igashyira mu bikorwa umugambi wayo amahanga arebera”.',\n",
       "  {'entities': [[11, 20, 'PER'], [44, 54, 'DATE']]}),\n",
       " ('Yibukije ko nyuma yo guhagarika Jenoside intego za FPR Inkotanyi kwari ugutuza buri Munyarwanda mu gihugu akubaka ejo heza mu mahoro n’ituze.',\n",
       "  {'entities': [[51, 64, 'ORG']]}),\n",
       " ('Yaboneyeho kugaragaza isura nshya u Rwanda rufite, anamurikira abitabiriye ibirori bimwe mu byo rwagezweho mu myaka 27 ishize mu bukungu n’imibereho myiza y’abaturage,rukesha imiyoborere myiza ya Perezida Kagame.',\n",
       "  {'entities': [[36, 42, 'LOC'], [205, 211, 'PER']]}),\n",
       " ('Ambasaderi Rwakazina yakanguriye Abanyarwanda by’umwihariko urubyiruko rutuye imahanga gushishikarira guteza imbere igihugu cyabo kuko aribo maboko yacyo, abasaba kugira uruhare rugaragara mu gusigasira ibyagezweho no gutanga umusanzu mu iterambere ryacyo.',\n",
       "  {'entities': [[11, 20, 'PER']]}),\n",
       " ('Ibirori byaranzwe n’ imbyino n’indirimbo Nyarwanda by’Itorero ry’Igihugu, Urukerereza; ibiganiro,imivugo, ubuhamya bw’Abanyarwanda n’inshuti z’u Rwanda byose bishimira bikanarata ingabo zahoze ari iza RPA zarubohoye zikanahagarika Jenoside yakorewe Abatutsi Abatutsi.',\n",
       "  {'entities': [[145, 151, 'LOC'], [201, 204, 'ORG']]}),\n",
       " ('Abanyarwanda baba USA bibukijwe ko badakwiye gusinzira ngo bibagirwe ababohoye Igihugu',\n",
       "  {'entities': [[18, 21, 'LOC']]}),\n",
       " ('', {'entities': []})]"
      ]
     },
     "execution_count": 4,
     "metadata": {},
     "output_type": "execute_result"
    }
   ],
   "source": [
    "train_data"
   ]
  },
  {
   "cell_type": "code",
   "execution_count": 5,
   "id": "9d7a2a25-45de-4d35-93d7-8dfde7175e86",
   "metadata": {},
   "outputs": [],
   "source": [
    "transformed_data = [\n",
    "    (text, {'entities': [tuple(entity) for entity in entities['entities']]})\n",
    "    for text, entities in train_data\n",
    "]\n",
    "\n",
    "#print(transformed_data)"
   ]
  },
  {
   "cell_type": "code",
   "execution_count": 6,
   "id": "b6300382-9ae9-4837-9012-b3dc157c3494",
   "metadata": {},
   "outputs": [
    {
     "data": {
      "text/plain": [
       "[('Abanyarwanda n’inshuti z’u Rwanda batuye mu Busuwisi, Autriche, na Liechtenstein bizihije ku nshuro ya 27 Umunsi wo Kwibohora, baratira amahanga ibyo igihugu kimaze kugeraho kibikesha imiyoborere myiza ya FPR Inkotanyi.',\n",
       "  {'entities': [(27, 33, 'LOC'),\n",
       "    (44, 52, 'LOC'),\n",
       "    (54, 62, 'LOC'),\n",
       "    (67, 80, 'LOC'),\n",
       "    (205, 218, 'ORG')]}),\n",
       " ('Ni ibirori byabaye ku wa 06 Nyakanga 2021 hifashishijwe ikoranabuhanga mu kwirinda COVID-19, byitabirwa n’abahagarariye ibihugu byabo, abakozi b’Umuryango w’Abibumbye, ndetse n’abakozi b’imiryango mpuzamahanga bakorera i Genève mu Busuwisi.',\n",
       "  {'entities': [(25, 41, 'DATE'),\n",
       "    (143, 166, 'ORG'),\n",
       "    (221, 227, 'LOC'),\n",
       "    (231, 239, 'LOC')]}),\n",
       " ('Insanganyamatsiko yagiraga iti “Dufatanyije tugera ku iterambere”.',\n",
       "  {'entities': []}),\n",
       " ('Mu ijambo yagejeje ku bitabiriye, Ambasaderi w’u Rwanda mu Busuwisi, Umuryango w’Abibumbye n’Imiryango Mpuzamahanga ikorera i Genève; Rwakazina Marie Chantal yakeje ingabo za RPA zabohoye igihugu, azishimira ubutwari, ubwitange ndetse no kutizigama byaziranze.',\n",
       "  {'entities': [(49, 55, 'LOC'),\n",
       "    (59, 67, 'LOC'),\n",
       "    (69, 90, 'ORG'),\n",
       "    (126, 132, 'LOC'),\n",
       "    (134, 157, 'PER'),\n",
       "    (175, 178, 'ORG')]}),\n",
       " ('Yashimiye cyane Perezida wa Repubulika Paul Kagame waziyoboye zigahagarika Jenoside yakorewe Abatutsi mu 1994, amahanga arebera.',\n",
       "  {'entities': [(39, 50, 'PER'), (105, 109, 'DATE')]}),\n",
       " ('Ambasaderi Rwakazina yagize ati “Itariki ya 4 Nyakanga ntizibagirana mu mateka y’Isi haba ku Banyarwanda n’abanyamahanga kuko ni ikimenyetso cy’ihagarikwa rya Jenoside yakorewe Abatutsi. Jenoside yagombaga kuba yaraburijwemo, ariko igakorwa na Leta nkoramaraso yari yaramunzwe n’amacakubiri, igategura ndetse igashyira mu bikorwa umugambi wayo amahanga arebera”.',\n",
       "  {'entities': [(11, 20, 'PER'), (44, 54, 'DATE')]}),\n",
       " ('Yibukije ko nyuma yo guhagarika Jenoside intego za FPR Inkotanyi kwari ugutuza buri Munyarwanda mu gihugu akubaka ejo heza mu mahoro n’ituze.',\n",
       "  {'entities': [(51, 64, 'ORG')]}),\n",
       " ('Yaboneyeho kugaragaza isura nshya u Rwanda rufite, anamurikira abitabiriye ibirori bimwe mu byo rwagezweho mu myaka 27 ishize mu bukungu n’imibereho myiza y’abaturage,rukesha imiyoborere myiza ya Perezida Kagame.',\n",
       "  {'entities': [(36, 42, 'LOC'), (205, 211, 'PER')]}),\n",
       " ('Ambasaderi Rwakazina yakanguriye Abanyarwanda by’umwihariko urubyiruko rutuye imahanga gushishikarira guteza imbere igihugu cyabo kuko aribo maboko yacyo, abasaba kugira uruhare rugaragara mu gusigasira ibyagezweho no gutanga umusanzu mu iterambere ryacyo.',\n",
       "  {'entities': [(11, 20, 'PER')]}),\n",
       " ('Ibirori byaranzwe n’ imbyino n’indirimbo Nyarwanda by’Itorero ry’Igihugu, Urukerereza; ibiganiro,imivugo, ubuhamya bw’Abanyarwanda n’inshuti z’u Rwanda byose bishimira bikanarata ingabo zahoze ari iza RPA zarubohoye zikanahagarika Jenoside yakorewe Abatutsi Abatutsi.',\n",
       "  {'entities': [(145, 151, 'LOC'), (201, 204, 'ORG')]}),\n",
       " ('Abanyarwanda baba USA bibukijwe ko badakwiye gusinzira ngo bibagirwe ababohoye Igihugu',\n",
       "  {'entities': [(18, 21, 'LOC')]}),\n",
       " ('', {'entities': []})]"
      ]
     },
     "execution_count": 6,
     "metadata": {},
     "output_type": "execute_result"
    }
   ],
   "source": [
    "transformed_data"
   ]
  },
  {
   "cell_type": "code",
   "execution_count": 21,
   "id": "3b18a5b4-61bf-4ef7-9472-c7df0405bff1",
   "metadata": {},
   "outputs": [],
   "source": [
    "#for i in train_data:\n",
    "#    if i[1]['entities'] == []:\n",
    "#        i[1]['entities'] = (0, 0, entity_names)\n",
    "#    else:\n",
    "#        i[1]['entities'][0] = tuple(i[1]['entities'][0])"
   ]
  },
  {
   "cell_type": "code",
   "execution_count": 7,
   "id": "a5657302-b968-4ef5-805b-e46e799173eb",
   "metadata": {},
   "outputs": [],
   "source": [
    "#pip install -U spacy"
   ]
  },
  {
   "cell_type": "code",
   "execution_count": 11,
   "id": "7336a0c4-f303-4187-9205-66fd95f76176",
   "metadata": {},
   "outputs": [
    {
     "name": "stdout",
     "output_type": "stream",
     "text": [
      "Collecting en-core-web-sm==3.7.1\n",
      "  Downloading https://github.com/explosion/spacy-models/releases/download/en_core_web_sm-3.7.1/en_core_web_sm-3.7.1-py3-none-any.whl (12.8 MB)\n",
      "\u001b[2K     \u001b[90m━━━━━━━━━━━━━━━━━━━━━━━━━━━━━━━━━━━━━━━━\u001b[0m \u001b[32m12.8/12.8 MB\u001b[0m \u001b[31m22.3 MB/s\u001b[0m eta \u001b[36m0:00:00\u001b[0ma \u001b[36m0:00:01\u001b[0m\n",
      "\u001b[?25hRequirement already satisfied: spacy<3.8.0,>=3.7.2 in /Users/hb3815/mambaforge/envs/Virtualenv/lib/python3.11/site-packages (from en-core-web-sm==3.7.1) (3.7.5)\n",
      "Requirement already satisfied: spacy-legacy<3.1.0,>=3.0.11 in /Users/hb3815/mambaforge/envs/Virtualenv/lib/python3.11/site-packages (from spacy<3.8.0,>=3.7.2->en-core-web-sm==3.7.1) (3.0.12)\n",
      "Requirement already satisfied: spacy-loggers<2.0.0,>=1.0.0 in /Users/hb3815/mambaforge/envs/Virtualenv/lib/python3.11/site-packages (from spacy<3.8.0,>=3.7.2->en-core-web-sm==3.7.1) (1.0.5)\n",
      "Requirement already satisfied: murmurhash<1.1.0,>=0.28.0 in /Users/hb3815/mambaforge/envs/Virtualenv/lib/python3.11/site-packages (from spacy<3.8.0,>=3.7.2->en-core-web-sm==3.7.1) (1.0.10)\n",
      "Requirement already satisfied: cymem<2.1.0,>=2.0.2 in /Users/hb3815/mambaforge/envs/Virtualenv/lib/python3.11/site-packages (from spacy<3.8.0,>=3.7.2->en-core-web-sm==3.7.1) (2.0.8)\n",
      "Requirement already satisfied: preshed<3.1.0,>=3.0.2 in /Users/hb3815/mambaforge/envs/Virtualenv/lib/python3.11/site-packages (from spacy<3.8.0,>=3.7.2->en-core-web-sm==3.7.1) (3.0.9)\n",
      "Requirement already satisfied: thinc<8.3.0,>=8.2.2 in /Users/hb3815/mambaforge/envs/Virtualenv/lib/python3.11/site-packages (from spacy<3.8.0,>=3.7.2->en-core-web-sm==3.7.1) (8.2.5)\n",
      "Requirement already satisfied: wasabi<1.2.0,>=0.9.1 in /Users/hb3815/mambaforge/envs/Virtualenv/lib/python3.11/site-packages (from spacy<3.8.0,>=3.7.2->en-core-web-sm==3.7.1) (1.1.3)\n",
      "Requirement already satisfied: srsly<3.0.0,>=2.4.3 in /Users/hb3815/mambaforge/envs/Virtualenv/lib/python3.11/site-packages (from spacy<3.8.0,>=3.7.2->en-core-web-sm==3.7.1) (2.4.8)\n",
      "Requirement already satisfied: catalogue<2.1.0,>=2.0.6 in /Users/hb3815/mambaforge/envs/Virtualenv/lib/python3.11/site-packages (from spacy<3.8.0,>=3.7.2->en-core-web-sm==3.7.1) (2.0.10)\n",
      "Requirement already satisfied: weasel<0.5.0,>=0.1.0 in /Users/hb3815/mambaforge/envs/Virtualenv/lib/python3.11/site-packages (from spacy<3.8.0,>=3.7.2->en-core-web-sm==3.7.1) (0.4.1)\n",
      "Requirement already satisfied: typer<1.0.0,>=0.3.0 in /Users/hb3815/mambaforge/envs/Virtualenv/lib/python3.11/site-packages (from spacy<3.8.0,>=3.7.2->en-core-web-sm==3.7.1) (0.12.3)\n",
      "Requirement already satisfied: tqdm<5.0.0,>=4.38.0 in /Users/hb3815/mambaforge/envs/Virtualenv/lib/python3.11/site-packages (from spacy<3.8.0,>=3.7.2->en-core-web-sm==3.7.1) (4.62.3)\n",
      "Requirement already satisfied: requests<3.0.0,>=2.13.0 in /Users/hb3815/mambaforge/envs/Virtualenv/lib/python3.11/site-packages (from spacy<3.8.0,>=3.7.2->en-core-web-sm==3.7.1) (2.31.0)\n",
      "Requirement already satisfied: pydantic!=1.8,!=1.8.1,<3.0.0,>=1.7.4 in /Users/hb3815/mambaforge/envs/Virtualenv/lib/python3.11/site-packages (from spacy<3.8.0,>=3.7.2->en-core-web-sm==3.7.1) (2.8.2)\n",
      "Requirement already satisfied: jinja2 in /Users/hb3815/mambaforge/envs/Virtualenv/lib/python3.11/site-packages (from spacy<3.8.0,>=3.7.2->en-core-web-sm==3.7.1) (3.1.2)\n",
      "Requirement already satisfied: setuptools in /Users/hb3815/mambaforge/envs/Virtualenv/lib/python3.11/site-packages (from spacy<3.8.0,>=3.7.2->en-core-web-sm==3.7.1) (72.2.0)\n",
      "Requirement already satisfied: packaging>=20.0 in /Users/hb3815/mambaforge/envs/Virtualenv/lib/python3.11/site-packages (from spacy<3.8.0,>=3.7.2->en-core-web-sm==3.7.1) (23.2)\n",
      "Requirement already satisfied: langcodes<4.0.0,>=3.2.0 in /Users/hb3815/mambaforge/envs/Virtualenv/lib/python3.11/site-packages (from spacy<3.8.0,>=3.7.2->en-core-web-sm==3.7.1) (3.4.0)\n",
      "Requirement already satisfied: numpy>=1.19.0 in /Users/hb3815/mambaforge/envs/Virtualenv/lib/python3.11/site-packages (from spacy<3.8.0,>=3.7.2->en-core-web-sm==3.7.1) (1.26.0)\n",
      "Requirement already satisfied: language-data>=1.2 in /Users/hb3815/mambaforge/envs/Virtualenv/lib/python3.11/site-packages (from langcodes<4.0.0,>=3.2.0->spacy<3.8.0,>=3.7.2->en-core-web-sm==3.7.1) (1.2.0)\n",
      "Requirement already satisfied: annotated-types>=0.4.0 in /Users/hb3815/mambaforge/envs/Virtualenv/lib/python3.11/site-packages (from pydantic!=1.8,!=1.8.1,<3.0.0,>=1.7.4->spacy<3.8.0,>=3.7.2->en-core-web-sm==3.7.1) (0.7.0)\n",
      "Requirement already satisfied: pydantic-core==2.20.1 in /Users/hb3815/mambaforge/envs/Virtualenv/lib/python3.11/site-packages (from pydantic!=1.8,!=1.8.1,<3.0.0,>=1.7.4->spacy<3.8.0,>=3.7.2->en-core-web-sm==3.7.1) (2.20.1)\n",
      "Requirement already satisfied: typing-extensions>=4.6.1 in /Users/hb3815/mambaforge/envs/Virtualenv/lib/python3.11/site-packages (from pydantic!=1.8,!=1.8.1,<3.0.0,>=1.7.4->spacy<3.8.0,>=3.7.2->en-core-web-sm==3.7.1) (4.8.0)\n",
      "Requirement already satisfied: charset-normalizer<4,>=2 in /Users/hb3815/mambaforge/envs/Virtualenv/lib/python3.11/site-packages (from requests<3.0.0,>=2.13.0->spacy<3.8.0,>=3.7.2->en-core-web-sm==3.7.1) (2.0.12)\n",
      "Requirement already satisfied: idna<4,>=2.5 in /Users/hb3815/mambaforge/envs/Virtualenv/lib/python3.11/site-packages (from requests<3.0.0,>=2.13.0->spacy<3.8.0,>=3.7.2->en-core-web-sm==3.7.1) (3.4)\n",
      "Requirement already satisfied: urllib3<3,>=1.21.1 in /Users/hb3815/mambaforge/envs/Virtualenv/lib/python3.11/site-packages (from requests<3.0.0,>=2.13.0->spacy<3.8.0,>=3.7.2->en-core-web-sm==3.7.1) (1.26.18)\n",
      "Requirement already satisfied: certifi>=2017.4.17 in /Users/hb3815/mambaforge/envs/Virtualenv/lib/python3.11/site-packages (from requests<3.0.0,>=2.13.0->spacy<3.8.0,>=3.7.2->en-core-web-sm==3.7.1) (2023.7.22)\n",
      "Requirement already satisfied: blis<0.8.0,>=0.7.8 in /Users/hb3815/mambaforge/envs/Virtualenv/lib/python3.11/site-packages (from thinc<8.3.0,>=8.2.2->spacy<3.8.0,>=3.7.2->en-core-web-sm==3.7.1) (0.7.11)\n",
      "Requirement already satisfied: confection<1.0.0,>=0.0.1 in /Users/hb3815/mambaforge/envs/Virtualenv/lib/python3.11/site-packages (from thinc<8.3.0,>=8.2.2->spacy<3.8.0,>=3.7.2->en-core-web-sm==3.7.1) (0.1.5)\n",
      "Requirement already satisfied: click>=8.0.0 in /Users/hb3815/mambaforge/envs/Virtualenv/lib/python3.11/site-packages (from typer<1.0.0,>=0.3.0->spacy<3.8.0,>=3.7.2->en-core-web-sm==3.7.1) (8.1.7)\n",
      "Requirement already satisfied: shellingham>=1.3.0 in /Users/hb3815/mambaforge/envs/Virtualenv/lib/python3.11/site-packages (from typer<1.0.0,>=0.3.0->spacy<3.8.0,>=3.7.2->en-core-web-sm==3.7.1) (1.5.4)\n",
      "Requirement already satisfied: rich>=10.11.0 in /Users/hb3815/mambaforge/envs/Virtualenv/lib/python3.11/site-packages (from typer<1.0.0,>=0.3.0->spacy<3.8.0,>=3.7.2->en-core-web-sm==3.7.1) (13.7.1)\n",
      "Requirement already satisfied: cloudpathlib<1.0.0,>=0.7.0 in /Users/hb3815/mambaforge/envs/Virtualenv/lib/python3.11/site-packages (from weasel<0.5.0,>=0.1.0->spacy<3.8.0,>=3.7.2->en-core-web-sm==3.7.1) (0.18.1)\n",
      "Requirement already satisfied: smart-open<8.0.0,>=5.2.1 in /Users/hb3815/mambaforge/envs/Virtualenv/lib/python3.11/site-packages (from weasel<0.5.0,>=0.1.0->spacy<3.8.0,>=3.7.2->en-core-web-sm==3.7.1) (7.0.4)\n",
      "Requirement already satisfied: MarkupSafe>=2.0 in /Users/hb3815/mambaforge/envs/Virtualenv/lib/python3.11/site-packages (from jinja2->spacy<3.8.0,>=3.7.2->en-core-web-sm==3.7.1) (2.1.3)\n",
      "Requirement already satisfied: marisa-trie>=0.7.7 in /Users/hb3815/mambaforge/envs/Virtualenv/lib/python3.11/site-packages (from language-data>=1.2->langcodes<4.0.0,>=3.2.0->spacy<3.8.0,>=3.7.2->en-core-web-sm==3.7.1) (1.2.0)\n",
      "Requirement already satisfied: markdown-it-py>=2.2.0 in /Users/hb3815/mambaforge/envs/Virtualenv/lib/python3.11/site-packages (from rich>=10.11.0->typer<1.0.0,>=0.3.0->spacy<3.8.0,>=3.7.2->en-core-web-sm==3.7.1) (3.0.0)\n",
      "Requirement already satisfied: pygments<3.0.0,>=2.13.0 in /Users/hb3815/mambaforge/envs/Virtualenv/lib/python3.11/site-packages (from rich>=10.11.0->typer<1.0.0,>=0.3.0->spacy<3.8.0,>=3.7.2->en-core-web-sm==3.7.1) (2.16.1)\n",
      "Requirement already satisfied: wrapt in /Users/hb3815/mambaforge/envs/Virtualenv/lib/python3.11/site-packages (from smart-open<8.0.0,>=5.2.1->weasel<0.5.0,>=0.1.0->spacy<3.8.0,>=3.7.2->en-core-web-sm==3.7.1) (1.14.1)\n",
      "Requirement already satisfied: mdurl~=0.1 in /Users/hb3815/mambaforge/envs/Virtualenv/lib/python3.11/site-packages (from markdown-it-py>=2.2.0->rich>=10.11.0->typer<1.0.0,>=0.3.0->spacy<3.8.0,>=3.7.2->en-core-web-sm==3.7.1) (0.1.2)\n",
      "Installing collected packages: en-core-web-sm\n",
      "Successfully installed en-core-web-sm-3.7.1\n",
      "\u001b[38;5;2m✔ Download and installation successful\u001b[0m\n",
      "You can now load the package via spacy.load('en_core_web_sm')\n"
     ]
    }
   ],
   "source": [
    "#pip show spacy\n",
    "!python -m spacy download en_core_web_sm\n"
   ]
  },
  {
   "cell_type": "code",
   "execution_count": 12,
   "id": "83a812a9-2394-45c6-a3b8-682fbfc21287",
   "metadata": {},
   "outputs": [],
   "source": [
    "nlp = spacy.load(\"en_core_web_sm\")"
   ]
  },
  {
   "cell_type": "code",
   "execution_count": 18,
   "id": "626a29cc-30d5-45c9-b006-d100baa9c7bb",
   "metadata": {},
   "outputs": [
    {
     "data": {
      "text/plain": [
       "'/Users/hb3815/Desktop/FRS159/FRS159'"
      ]
     },
     "execution_count": 18,
     "metadata": {},
     "output_type": "execute_result"
    }
   ],
   "source": [
    "pwd\n"
   ]
  },
  {
   "cell_type": "code",
   "execution_count": 19,
   "id": "34e1660f-3ac8-432d-83bc-5725b3c615fb",
   "metadata": {},
   "outputs": [
    {
     "name": "stderr",
     "output_type": "stream",
     "text": [
      "100%|█████████████████████████████████████████████████████████████████████████████████████████████████████████████████████████████████████████████████████████████████████████████| 12/12 [00:00<00:00, 1045.40it/s]\n"
     ]
    }
   ],
   "source": [
    "import pandas as pd\n",
    "import os\n",
    "from tqdm import tqdm\n",
    "import spacy\n",
    "from spacy.tokens import DocBin\n",
    "\n",
    "\n",
    "#nlp = spacy.blank(\"en\") # load a new spacy model\n",
    "nlp = spacy.load(\"en_core_web_sm\") # load other spacy model\n",
    "\n",
    "db = DocBin() # create a DocBin object\n",
    "\n",
    "for text, annot in tqdm(transformed_data): # data in previous format\n",
    "    doc = nlp.make_doc(text) # create doc object from text\n",
    "    ents = []\n",
    "    for start, end, label in annot[\"entities\"]: # add character indexes\n",
    "        span = doc.char_span(start, end, label=label, alignment_mode=\"contract\")\n",
    "        if span is None:\n",
    "            print(\"Skipping entity\")\n",
    "        else:\n",
    "            ents.append(span)\n",
    "    doc.ents = ents # label the text with the ents\n",
    "    db.add(doc)\n",
    "\n",
    "\n",
    "save_directory = r'/Users/hb3815/Desktop/FRS159/kin_model'\n",
    "\n",
    "# Create the directory if it doesn't exist\n",
    "if not os.path.exists(save_directory):\n",
    "    os.makedirs(save_directory)\n",
    "\n",
    "# Save the docbin object\n",
    "db.to_disk(os.path.join(save_directory, \"train.spacy\"))\n"
   ]
  },
  {
   "cell_type": "code",
   "execution_count": null,
   "id": "ac3aa2c5-4908-47f7-bb8a-4ce7ce6b1f32",
   "metadata": {},
   "outputs": [],
   "source": []
  }
 ],
 "metadata": {
  "kernelspec": {
   "display_name": "Python 3 (ipykernel)",
   "language": "python",
   "name": "python3"
  },
  "language_info": {
   "codemirror_mode": {
    "name": "ipython",
    "version": 3
   },
   "file_extension": ".py",
   "mimetype": "text/x-python",
   "name": "python",
   "nbconvert_exporter": "python",
   "pygments_lexer": "ipython3",
   "version": "3.11.6"
  }
 },
 "nbformat": 4,
 "nbformat_minor": 5
}
